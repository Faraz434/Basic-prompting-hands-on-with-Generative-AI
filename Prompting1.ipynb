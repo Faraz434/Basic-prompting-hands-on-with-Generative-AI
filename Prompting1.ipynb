{
  "nbformat": 4,
  "nbformat_minor": 0,
  "metadata": {
    "colab": {
      "provenance": []
    },
    "kernelspec": {
      "name": "python3",
      "display_name": "Python 3"
    },
    "language_info": {
      "name": "python"
    }
  },
  "cells": [
    {
      "cell_type": "code",
      "source": [
        "import google.generativeai as genai\n",
        "from google.colab import userdata\n",
        "google_api = userdata.get(\"GOOGLE-API-KEY\")\n",
        "genai.configure(api_key = google_api)"
      ],
      "metadata": {
        "id": "gqk6Y8A3-Hq4"
      },
      "execution_count": null,
      "outputs": []
    },
    {
      "cell_type": "code",
      "source": [
        "model= genai.GenerativeModel('gemini-pro')"
      ],
      "metadata": {
        "id": "g_j1BcNn-JJe"
      },
      "execution_count": null,
      "outputs": []
    },
    {
      "cell_type": "code",
      "execution_count": null,
      "metadata": {
        "colab": {
          "base_uri": "https://localhost:8080/",
          "height": 35
        },
        "id": "M3EfbWZ957Uu",
        "outputId": "1794de5a-23d4-425d-fb94-4d21319c874c"
      },
      "outputs": [
        {
          "output_type": "stream",
          "name": "stdout",
          "text": [
            "यहां मौसम बहुत सुहाना है\n"
          ]
        }
      ],
      "source": [
        "examples = [{'Input': 'Translate into Italian: \\\n",
        "Its raining in the city today',\n",
        "             'Output:': 'Oggi piove in città'},\\\n",
        "            {'Input': 'Translate into Italian: \\\n",
        "            Generative AI is the rage these days',\n",
        "             'Output': \"L'intelligenza artificiale generativa è di gran moda in questi giorni\"}]\n",
        "\n",
        "#Pass the prompt\n",
        "\n",
        "prompt= 'Translate the text into Hindi:\\\n",
        "The weather is beautiful here'\n",
        "\n",
        "response = model.generate_content(prompt)\n",
        "print(response.text)"
      ]
    },
    {
      "cell_type": "code",
      "source": [
        "examples = [{'Input': 'Translate into Italian: \\\n",
        "Its raining in the city today',\n",
        "             'Output:': 'Oggi piove in città'},\\\n",
        "            {'Input': 'Translate into Italian: \\\n",
        "            Generative AI is the rage these days',\n",
        "             'Output': \"L'intelligenza artificiale generativa è di gran moda in questi giorni\"}]\n",
        "\n",
        "#Pass the prompt"
      ],
      "metadata": {
        "id": "N7Kiy1Et-_zH"
      },
      "execution_count": null,
      "outputs": []
    },
    {
      "cell_type": "code",
      "source": [
        "prompt= 'Translate the text into Hindi:\\\n",
        "The weather is beautiful here'\n",
        "\n",
        "response = model.generate_content(prompt + '\\n\\nExamples:\\n' + str(examples))\n",
        "print(response.text)"
      ],
      "metadata": {
        "colab": {
          "base_uri": "https://localhost:8080/",
          "height": 35
        },
        "id": "OAr2Euzf_Wq-",
        "outputId": "8e7a4e53-9519-4318-93b9-d0edf1c1edaa"
      },
      "execution_count": null,
      "outputs": [
        {
          "output_type": "stream",
          "name": "stdout",
          "text": [
            "यहाँ का मौसम सुहाना है\n"
          ]
        }
      ]
    },
    {
      "cell_type": "code",
      "source": [
        "examples = [{'Input': 'Calculate the sum of two numbers',\n",
        "             'Output:': 'def sum(a,b):\\n return a + b'},\\\n",
        "            {'Input': 'Find the Maximum of two numbers',\n",
        "             'Output': \"if (a > b) return a else return b\"}]\n",
        "\n",
        "#Pass the prompt\n",
        "prompt= 'find min in 10 and 5'\n",
        "\n",
        "response = model.generate_content(prompt)\n",
        "print(response.text)"
      ],
      "metadata": {
        "colab": {
          "base_uri": "https://localhost:8080/",
          "height": 35
        },
        "id": "j-q4w9vVBYlw",
        "outputId": "5c838887-fa53-4cb6-fb5a-97796508e881"
      },
      "execution_count": null,
      "outputs": [
        {
          "output_type": "stream",
          "name": "stdout",
          "text": [
            "5\n"
          ]
        }
      ]
    },
    {
      "cell_type": "code",
      "source": [
        "examples = [{'Input': 'Extract Name of employee from employee table',\n",
        "             'Output:': 'Select employee name from employee'},\\\n",
        "            {'Input': 'Extract employee with salary > 50000',\n",
        "             'Output': \"select * from employees where salary > 50000\"}]\n",
        "\n",
        "#Pass the prompt\n",
        "prompt= 'give me a sql query to get employee with maximum salary '\n",
        "\n",
        "response = model.generate_content(prompt + '\\n\\nExamples:\\n' + str(examples))\n",
        "print(response.text)"
      ],
      "metadata": {
        "colab": {
          "base_uri": "https://localhost:8080/",
          "height": 126
        },
        "id": "iCXub8mPBYoQ",
        "outputId": "f6f57e00-3bd2-41f9-a8f6-121f339b353d"
      },
      "execution_count": null,
      "outputs": [
        {
          "output_type": "stream",
          "name": "stdout",
          "text": [
            "```sql\n",
            "SELECT *\n",
            "FROM employee\n",
            "ORDER BY salary DESC\n",
            "LIMIT 1;\n",
            "```\n"
          ]
        }
      ]
    },
    {
      "cell_type": "markdown",
      "source": [
        "# Chain of thoughts\n",
        "\n",
        "* Series of thoughts put together\n",
        "* Covering dilemma, possible options,\n",
        "Plausible solutions may be contextual or non contextual\n",
        "* Given to model leading decision making\n",
        "\n",
        "\n",
        "# Imp point\n",
        "1. make it as detailed as possible\n",
        "2. Try to be specific as you can\n",
        "3. leave no room for ambiguity and guessing"
      ],
      "metadata": {
        "id": "buqGYoZ8HmUV"
      }
    },
    {
      "cell_type": "code",
      "source": [
        "prompt= \"\"\"\n",
        "Question: Shall we take a break now or solve the exercise\\\n",
        "first and then take a break\n",
        "\n",
        "Chain of thought:\n",
        "1. **Situation**: The class start at 8 andwe are in the middle of\\\n",
        " discussing the concept of chain of thought concepts in Gen AI.\n",
        " 2. **Input from Audience** - Everyone come early and are feeling hungry.\\\n",
        " Its time to take a break for the breakfast.\n",
        "3.**Agenda for today** - The agenda seems light today as we need to discuss prompting and then we will go and build one application\n",
        "4. **Final Thoughts** - We feel that we have the flexibility to prioritise things  during the seesion and can go for the break before we complete.\n",
        "\n",
        "Note: we really cannot decide what shall we do and hence need your help to\\\n",
        "assess the situation and come up with the logical steps behind your thought process\"\"\"\n",
        "\n",
        "\n",
        "response = model.generate_content(prompt)\n",
        "print(response.text)"
      ],
      "metadata": {
        "colab": {
          "base_uri": "https://localhost:8080/",
          "height": 436
        },
        "id": "SNdDwu1lBYtZ",
        "outputId": "84023eeb-c37d-459e-84e7-4932996352ec"
      },
      "execution_count": null,
      "outputs": [
        {
          "output_type": "stream",
          "name": "stdout",
          "text": [
            "**Logical Thought Process:**\n",
            "\n",
            "1. **Assess the time and agenda:** Consider the time remaining in the session and the complexity of the remaining topics.\n",
            "2. **Evaluate the participants' needs:** Acknowledge that the participants are feeling hungry and need a break.\n",
            "3. **Prioritize the objectives:** Determine whether completing the exercise before the break is essential for the learning outcomes.\n",
            "4. **Consider the flexibility of the agenda:** If the agenda allows for prioritizing the break, consider accommodating the participants' request.\n",
            "5. **Weigh the benefits and drawbacks:**\n",
            "\n",
            "   - **Benefits of taking a break now:**\n",
            "     - Satisfies participants' immediate needs.\n",
            "     - Refreshes and re-energizes participants for the remaining session.\n",
            "   - **Drawbacks:**\n",
            "     - May interrupt the flow of the discussion.\n",
            "\n",
            "6. **Make a decision based on the evaluation:**\n",
            "\n",
            "   - If the remaining time is short and the exercise is crucial for understanding, suggest continuing with the exercise before taking a break.\n",
            "   - If there is ample time and the participants' needs outweigh the potential drawbacks, propose taking a break now.\n",
            "\n",
            "**Suggested Response:**\n",
            "\n",
            "\"I understand that everyone is feeling hungry and would like to take a break for breakfast. Let's quickly assess the situation. We still have some concepts to cover in today's session, but I am flexible with the agenda. If you all feel that a break would be beneficial, we can take one now. Alternatively, we can finish the exercise and then take a break. What are your thoughts?\"\n"
          ]
        }
      ]
    },
    {
      "cell_type": "code",
      "source": [
        "#Dilemma of masters abroad vs work life here\n",
        "\n",
        "prompt= '''\n",
        "Question - Shall I go to Masters aboroad (U.S.) or work here in India?\n",
        "\n",
        "Chain of Thought\n",
        "1. **Current Situation** - I have done MBA from a college in northern part of India and currently working as a Manager in a bank.\n",
        "2. **Why Masters in US** - It will open doors to more learning and growing opportunities. I will be able to learn cutting- edge\\\n",
        " techniques in college there which can be learned in India too.\n",
        "3.**Financial Factor** - I am out of funds though but if i am lucky enough I will get a scholorship\n",
        "4. **What about Indian Colleges?** - Yes Indian colleges are good enough but opportunities in USA will be much more and better\n",
        "\n",
        "Answer: I want you to tell me what should I do ?\n",
        "\n",
        "Note: Act as a career consultant and a psychologist and evaulate my situation and help me in decision making\\\n",
        "Do a swot analysis of my situation as well'''\n",
        "\n",
        "response = model.generate_content(prompt)\n",
        "print(response.text)"
      ],
      "metadata": {
        "colab": {
          "base_uri": "https://localhost:8080/",
          "height": 999
        },
        "id": "mSgX8s4qUd9v",
        "outputId": "916eba0b-e479-492c-8cb0-cebe40b1697f"
      },
      "execution_count": null,
      "outputs": [
        {
          "output_type": "stream",
          "name": "stdout",
          "text": [
            "**Career Consultant Perspective:**\n",
            "\n",
            "**SWOT Analysis:**\n",
            "\n",
            "**Strengths:**\n",
            "\n",
            "* MBA degree from a reputable college\n",
            "* Managerial experience in banking\n",
            "* Desire for professional growth\n",
            "\n",
            "**Weaknesses:**\n",
            "\n",
            "* Lack of funds for overseas education\n",
            "* Limited opportunities for cutting-edge learning in India\n",
            "\n",
            "**Opportunities:**\n",
            "\n",
            "* Scholarship potential for overseas study\n",
            "* Access to advanced learning and research in the US\n",
            "* Enhanced career prospects in a more competitive global market\n",
            "\n",
            "**Threats:**\n",
            "\n",
            "* High competition for scholarships and admission to top US universities\n",
            "* Cultural and lifestyle differences between India and the US\n",
            "\n",
            "**Recommendation:**\n",
            "\n",
            "Given your strong desire for professional growth and the limited opportunities for cutting-edge learning in India, pursuing a Master's degree in the US could be a valuable investment. Explore scholarship opportunities thoroughly and consider part-time employment while studying to offset expenses. The potential benefits of enhanced learning, networking, and career advancement outweigh the financial challenges and cultural differences.\n",
            "\n",
            "**Psychologist Perspective:**\n",
            "\n",
            "**Your Motivations:**\n",
            "\n",
            "* **Intrinsic:** A deep-seated desire to learn and grow professionally\n",
            "* **Extrinsic:** The potential for financial gain and career advancement\n",
            "\n",
            "**Your Concerns:**\n",
            "\n",
            "* **Financial uncertainty:** You are worried about the cost of overseas education\n",
            "* **Cultural adjustment:** You are concerned about adapting to a different culture\n",
            "\n",
            "**Decision-Making Support:**\n",
            "\n",
            "* **Weigh the pros and cons:** Carefully consider the potential benefits and risks of both options.\n",
            "* **Explore alternatives:** Consider other options for professional growth, such as online courses or specialized training programs in India.\n",
            "* **Seek support:** Reach out to mentors, family, or friends for advice and guidance.\n",
            "* **Introspection:** Reflect on your values and priorities. Determine whether the pursuit of a Masters in the US is aligned with your long-term goals.\n",
            "* **Take a calculated risk:** If you are confident in your abilities and have explored all other options, you may consider taking a calculated risk and pursuing a Master's in the US.\n",
            "\n",
            "**Conclusion:**\n",
            "\n",
            "The decision of whether to pursue a Masters in the US or work in India is a complex one that requires careful consideration. By conducting a SWOT analysis, exploring your motivations and concerns, and seeking support from others, you can make an informed decision that aligns with your personal and professional aspirations.\n"
          ]
        }
      ]
    },
    {
      "cell_type": "code",
      "source": [],
      "metadata": {
        "id": "hK4mL8X5UeAS"
      },
      "execution_count": null,
      "outputs": []
    },
    {
      "cell_type": "code",
      "source": [],
      "metadata": {
        "id": "20rvuB6HUeC5"
      },
      "execution_count": null,
      "outputs": []
    },
    {
      "cell_type": "code",
      "source": [],
      "metadata": {
        "id": "8w0DsS1AUeFG"
      },
      "execution_count": null,
      "outputs": []
    },
    {
      "cell_type": "code",
      "source": [],
      "metadata": {
        "id": "QjdJ4qP8UeHc"
      },
      "execution_count": null,
      "outputs": []
    },
    {
      "cell_type": "code",
      "source": [],
      "metadata": {
        "id": "0_KaakFhUeJ4"
      },
      "execution_count": null,
      "outputs": []
    },
    {
      "cell_type": "code",
      "source": [],
      "metadata": {
        "id": "HiJJG24fUeOM"
      },
      "execution_count": null,
      "outputs": []
    },
    {
      "cell_type": "code",
      "source": [],
      "metadata": {
        "id": "-V9WN2P1UeQw"
      },
      "execution_count": null,
      "outputs": []
    },
    {
      "cell_type": "code",
      "source": [],
      "metadata": {
        "id": "T-b8_6WqUeUM"
      },
      "execution_count": null,
      "outputs": []
    },
    {
      "cell_type": "code",
      "source": [],
      "metadata": {
        "id": "4IHmwODCBYwL"
      },
      "execution_count": null,
      "outputs": []
    },
    {
      "cell_type": "code",
      "source": [],
      "metadata": {
        "id": "2lik8IqiBYyT"
      },
      "execution_count": null,
      "outputs": []
    },
    {
      "cell_type": "code",
      "source": [],
      "metadata": {
        "id": "oAH2LWfkBY0c"
      },
      "execution_count": null,
      "outputs": []
    },
    {
      "cell_type": "code",
      "source": [],
      "metadata": {
        "id": "cd97qf9pBY2s"
      },
      "execution_count": null,
      "outputs": []
    },
    {
      "cell_type": "code",
      "source": [],
      "metadata": {
        "id": "TzqweL6EBY47"
      },
      "execution_count": null,
      "outputs": []
    },
    {
      "cell_type": "code",
      "source": [],
      "metadata": {
        "id": "oHy5xLrvBY8c"
      },
      "execution_count": null,
      "outputs": []
    }
  ]
}